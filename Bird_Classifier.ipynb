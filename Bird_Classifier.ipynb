{
  "nbformat": 4,
  "nbformat_minor": 0,
  "metadata": {
    "colab": {
      "provenance": [],
      "authorship_tag": "ABX9TyNtjoplth1LkdZ8evFpao/m"
    },
    "kernelspec": {
      "name": "python3",
      "display_name": "Python 3"
    },
    "language_info": {
      "name": "python"
    }
  },
  "cells": [
    {
      "cell_type": "code",
      "source": [],
      "metadata": {
        "id": "zAwEsHHEpVrn"
      },
      "execution_count": null,
      "outputs": []
    },
    {
      "cell_type": "code",
      "source": [
        "import os\n",
        "from PIL import Image\n",
        "import numpy as np\n",
        "from sklearn.model_selection import train_test_split\n",
        "from sklearn.ensemble import RandomForestClassifier\n",
        "from sklearn.svm import SVC\n",
        "from xgboost import XGBClassifier\n",
        "from sklearn.metrics import accuracy_score, precision_score, recall_score, f1_score"
      ],
      "metadata": {
        "id": "hQ6qUS3Mp1ZE"
      },
      "execution_count": null,
      "outputs": []
    },
    {
      "cell_type": "code",
      "execution_count": null,
      "metadata": {
        "id": "fzPZKbzJo1ao"
      },
      "outputs": [],
      "source": [
        "class BirdClassification:\n",
        "    def __init__(self, input_dir, classes, batch_size):\n",
        "        self.input_dir = input_dir\n",
        "        self.classes = classes\n",
        "        self.batch_size = batch_size\n",
        "\n",
        "    def load_data_in_batches(self):\n",
        "        data = []\n",
        "        labels = []\n",
        "\n",
        "        for category_idx, category in enumerate(self.classes):\n",
        "            files = os.listdir(os.path.join(self.input_dir, category))\n",
        "            num_files = len(files)\n",
        "            num_batches = num_files // self.batch_size\n",
        "\n",
        "            for batch_idx in range(num_batches):\n",
        "                batch_files = files[batch_idx * self.batch_size: (batch_idx + 1) * self.batch_size]\n",
        "                for file in batch_files:\n",
        "                    if file.lower().endswith(('.jpg')):\n",
        "                        img_path = os.path.join(self.input_dir, category, file)\n",
        "                        img = Image.open(img_path)\n",
        "                        img = img.resize((255, 255))\n",
        "                        data.append(np.array(img).flatten())\n",
        "                        labels.append(category_idx)\n",
        "\n",
        "        self.data = np.asarray(data)\n",
        "        self.labels = np.asarray(labels)\n",
        "\n",
        "    def normalize_data(self):\n",
        "        self.normalized_data = list(map(lambda x: x/255, self.data))\n",
        "\n",
        "    def train_test_split(self, test_size=0.2, random_state=20):\n",
        "        self.X_train, self.X_test, self.y_train, self.y_test = train_test_split(\n",
        "            self.normalized_data, self.labels, test_size=test_size, random_state=random_state, shuffle=True)\n",
        "\n",
        "    def train_model(self):\n",
        "        self.model = RandomForestClassifier()\n",
        "        self.model.fit(self.X_train, self.y_train)\n",
        "\n",
        "    def evaluate_model(self):\n",
        "        predictions = self.model.predict(self.X_test)\n",
        "        self.accuracy = accuracy_score(self.y_test, predictions)\n",
        "        self.precision = precision_score(self.y_test, predictions)\n",
        "        self.recall = recall_score(self.y_test, predictions)\n",
        "        self.f1 = f1_score(self.y_test, predictions)\n",
        "\n",
        "    def print_evaluation(self):\n",
        "        print(\"Model Accuracy:\", self.accuracy)\n",
        "        print(\"Model Precision:\", self.precision)\n",
        "        print(\"Model Recall:\", self.recall)\n",
        "        print(\"Model F1 Score:\", self.f1)\n",
        "\n",
        "\n",
        "\n",
        "\n",
        "\n"
      ]
    },
    {
      "cell_type": "code",
      "source": [
        "# Classification with SVM\n",
        "class BirdClassificationWithSVM(BirdClassification):\n",
        "    def train_model(self):\n",
        "        self.model = SVC()\n",
        "        self.model.fit(self.X_train, self.y_train)\n"
      ],
      "metadata": {
        "id": "YU6UicCzpyQs"
      },
      "execution_count": null,
      "outputs": []
    },
    {
      "cell_type": "code",
      "source": [
        "# Classification with XGBOOST\n",
        "class BirdClassificationWithXGBoost(BirdClassification):\n",
        "    def train_model(self):\n",
        "        self.model = XGBClassifier()\n",
        "        self.model.fit(self.X_train, self.y_train)\n"
      ],
      "metadata": {
        "id": "lmY50Pffpw9K"
      },
      "execution_count": null,
      "outputs": []
    },
    {
      "cell_type": "code",
      "source": [
        "!git clone https://github.com/reddyprasade/Machine-Learning-Problems-DataSets.git"
      ],
      "metadata": {
        "colab": {
          "base_uri": "https://localhost:8080/"
        },
        "id": "kpYPiof2qCM9",
        "outputId": "baee487e-7872-46db-ed82-cb6f80ce7e86"
      },
      "execution_count": null,
      "outputs": [
        {
          "output_type": "stream",
          "name": "stdout",
          "text": [
            "Cloning into 'Machine-Learning-Problems-DataSets'...\n",
            "remote: Enumerating objects: 1104, done.\u001b[K\n",
            "remote: Counting objects: 100% (86/86), done.\u001b[K\n",
            "remote: Compressing objects: 100% (54/54), done.\u001b[K\n",
            "remote: Total 1104 (delta 34), reused 84 (delta 32), pack-reused 1018\u001b[K\n",
            "Receiving objects: 100% (1104/1104), 282.62 MiB | 27.00 MiB/s, done.\n",
            "Resolving deltas: 100% (448/448), done.\n",
            "Updating files: 100% (407/407), done.\n"
          ]
        }
      ]
    },
    {
      "cell_type": "code",
      "source": [
        "# Dataset index and class labels\n",
        "input_dir = \"/content/Machine-Learning-Problems-DataSets/Classification/Birds_Classification\"\n",
        "classes = ['Parrot', 'Pigeon']\n",
        "batch_size = 32\n",
        "\n",
        "# Create ML classification\n",
        "bird_classification = BirdClassification(input_dir, classes, batch_size)\n",
        "\n"
      ],
      "metadata": {
        "id": "V41TbHa_pqNY"
      },
      "execution_count": null,
      "outputs": []
    },
    {
      "cell_type": "code",
      "source": [
        "#Classification with Random Forest\n",
        "bird_classification.load_data_in_batches()\n",
        "bird_classification.normalize_data()\n",
        "bird_classification.train_test_split()\n",
        "bird_classification.train_model()\n",
        "bird_classification.evaluate_model()\n",
        "\n",
        "print(\"Random Forest Results:\\n ___________________________\\n\")\n",
        "bird_classification.print_evaluation()"
      ],
      "metadata": {
        "colab": {
          "base_uri": "https://localhost:8080/"
        },
        "id": "WbHDbNdhplGu",
        "outputId": "e2bbd9c6-0f25-4ced-c2fc-39528ec0e9c1"
      },
      "execution_count": null,
      "outputs": [
        {
          "output_type": "stream",
          "name": "stdout",
          "text": [
            "Random Forest Results:\n",
            " ___________________________\n",
            "\n",
            "Model Accuracy: 0.8461538461538461\n",
            "Model Precision: 1.0\n",
            "Model Recall: 0.6666666666666666\n",
            "Model F1 Score: 0.8\n"
          ]
        }
      ]
    },
    {
      "cell_type": "code",
      "source": [
        "# Classification with SVM\n",
        "bird_classification_svm = BirdClassificationWithSVM(input_dir, classes, batch_size)\n",
        "bird_classification_svm.load_data_in_batches()\n",
        "bird_classification_svm.normalize_data()\n",
        "bird_classification_svm.train_test_split()\n",
        "bird_classification_svm.train_model()\n",
        "bird_classification_svm.evaluate_model()\n",
        "\n",
        "print(\"\\nSVM Results:\\n ___________________________\\n\")\n",
        "bird_classification_svm.print_evaluation()"
      ],
      "metadata": {
        "colab": {
          "base_uri": "https://localhost:8080/"
        },
        "id": "3rzySenrpdYd",
        "outputId": "a0f0bdb0-bbc3-45dc-d232-c0592ca35f93"
      },
      "execution_count": null,
      "outputs": [
        {
          "output_type": "stream",
          "name": "stdout",
          "text": [
            "\n",
            "SVM Results:\n",
            " ___________________________\n",
            "\n",
            "Model Accuracy: 0.6923076923076923\n",
            "Model Precision: 0.6666666666666666\n",
            "Model Recall: 0.6666666666666666\n",
            "Model F1 Score: 0.6666666666666666\n"
          ]
        }
      ]
    },
    {
      "cell_type": "code",
      "source": [
        "# Classification with XGBOOST\n",
        "bird_classification_xgboost = BirdClassificationWithXGBoost(input_dir, classes, batch_size)\n",
        "bird_classification_xgboost.load_data_in_batches()\n",
        "bird_classification_xgboost.normalize_data()\n",
        "bird_classification_xgboost.train_test_split()\n",
        "bird_classification_xgboost.train_model()\n",
        "bird_classification_xgboost.evaluate_model()\n",
        "\n",
        "print(\"\\nXGBoost Results:\\n___________________________\\n\")\n",
        "bird_classification_xgboost.print_evaluation()"
      ],
      "metadata": {
        "colab": {
          "base_uri": "https://localhost:8080/"
        },
        "id": "wBJiJr9FpaaM",
        "outputId": "cd256203-4cd6-4dbc-aba8-9ec6c273cb78"
      },
      "execution_count": null,
      "outputs": [
        {
          "output_type": "stream",
          "name": "stdout",
          "text": [
            "\n",
            "XGBoost Results:\n",
            "___________________________\n",
            "\n",
            "Model Accuracy: 0.8461538461538461\n",
            "Model Precision: 1.0\n",
            "Model Recall: 0.6666666666666666\n",
            "Model F1 Score: 0.8\n"
          ]
        }
      ]
    }
  ]
}